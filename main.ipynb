{
 "cells": [
  {
   "cell_type": "code",
   "execution_count": 1,
   "metadata": {},
   "outputs": [],
   "source": [
    "import torch\n",
    "from torch import nn\n",
    "from torch.utils.data import DataLoader\n",
    "from torchvision import datasets\n",
    "from torchvision.transforms import ToTensor\n",
    "\n",
    "from mobcom.models.neural_network import NeuralNetwork\n",
    "from mobcom.environment import Optimizer\n",
    "from mobcom.io.data_provider import DataProvider"
   ]
  },
  {
   "cell_type": "code",
   "execution_count": 2,
   "metadata": {},
   "outputs": [
    {
     "ename": "ValueError",
     "evalue": "could not determine the shape of object type 'DataFrame'",
     "output_type": "error",
     "traceback": [
      "\u001b[0;31m---------------------------------------------------------------------------\u001b[0m",
      "\u001b[0;31mValueError\u001b[0m                                Traceback (most recent call last)",
      "Cell \u001b[0;32mIn[2], line 2\u001b[0m\n\u001b[1;32m      1\u001b[0m \u001b[39m#train_data, test_data = DataProvider.select(\"default\")\u001b[39;00m\n\u001b[0;32m----> 2\u001b[0m test \u001b[39m=\u001b[39m DataProvider\u001b[39m.\u001b[39;49mselect(\u001b[39m\"\u001b[39;49m\u001b[39mdefault\u001b[39;49m\u001b[39m\"\u001b[39;49m)\n",
      "File \u001b[0;32m~/nunes/mobile-comms/mobcom/io/data_provider.py:10\u001b[0m, in \u001b[0;36mDataProvider.select\u001b[0;34m(data)\u001b[0m\n\u001b[1;32m      4\u001b[0m \u001b[39m@staticmethod\u001b[39m\n\u001b[1;32m      5\u001b[0m \u001b[39mdef\u001b[39;00m \u001b[39mselect\u001b[39m(data: \u001b[39mstr\u001b[39m):\n\u001b[1;32m      6\u001b[0m     \u001b[39mmatch\u001b[39;00m data\u001b[39m.\u001b[39mlower():\n\u001b[1;32m      7\u001b[0m         \u001b[39mcase\u001b[39;00m \u001b[39m\"\u001b[39m\u001b[39mmnist\u001b[39m\u001b[39m\"\u001b[39m:\n\u001b[1;32m      8\u001b[0m             \u001b[39mreturn\u001b[39;00m Reader\u001b[39m.\u001b[39mdownload_data()\n\u001b[1;32m      9\u001b[0m         \u001b[39mcase\u001b[39;00m \u001b[39m\"\u001b[39m\u001b[39mdefault\u001b[39m\u001b[39m\"\u001b[39m:\n\u001b[0;32m---> 10\u001b[0m             \u001b[39mreturn\u001b[39;00m Reader\u001b[39m.\u001b[39;49mdefault_data()\n",
      "File \u001b[0;32m~/nunes/mobile-comms/mobcom/io/reader.py:13\u001b[0m, in \u001b[0;36mReader.default_data\u001b[0;34m()\u001b[0m\n\u001b[1;32m     10\u001b[0m \u001b[39m@staticmethod\u001b[39m\n\u001b[1;32m     11\u001b[0m \u001b[39mdef\u001b[39;00m \u001b[39mdefault_data\u001b[39m():\n\u001b[1;32m     12\u001b[0m     data \u001b[39m=\u001b[39m pd\u001b[39m.\u001b[39mread_csv(DATA_FILE_PATH) \n\u001b[0;32m---> 13\u001b[0m     dataset \u001b[39m=\u001b[39m Tensor(data)\n\u001b[1;32m     15\u001b[0m     \u001b[39mreturn\u001b[39;00m dataset\n",
      "\u001b[0;31mValueError\u001b[0m: could not determine the shape of object type 'DataFrame'"
     ]
    }
   ],
   "source": [
    "#train_data, test_data = DataProvider.select(\"default\")\n",
    "test = DataProvider.select(\"default\")"
   ]
  },
  {
   "cell_type": "code",
   "execution_count": 12,
   "metadata": {},
   "outputs": [
    {
     "name": "stdout",
     "output_type": "stream",
     "text": [
      "Shape of X [N, C, H, W]: torch.Size([64, 1, 28, 28])\n",
      "Shape of y: torch.Size([64]) torch.int64\n"
     ]
    }
   ],
   "source": [
    "batch_size = 64\n",
    "\n",
    "train_dataloader = DataLoader(train_data, batch_size=batch_size)\n",
    "test_dataloader = DataLoader(test_data, batch_size=batch_size)\n",
    "\n",
    "for X, y in test_dataloader:\n",
    "    print(f\"Shape of X [N, C, H, W]: {X.shape}\")\n",
    "    print(f\"Shape of y: {y.shape} {y.dtype}\")\n",
    "    break"
   ]
  },
  {
   "cell_type": "code",
   "execution_count": 13,
   "metadata": {},
   "outputs": [
    {
     "name": "stdout",
     "output_type": "stream",
     "text": [
      "Using cpu device\n",
      "NeuralNetwork(\n",
      "  (flatten): Flatten(start_dim=1, end_dim=-1)\n",
      "  (linear_relu_stack): Sequential(\n",
      "    (0): Linear(in_features=784, out_features=512, bias=True)\n",
      "    (1): ReLU()\n",
      "    (2): Linear(in_features=512, out_features=512, bias=True)\n",
      "    (3): ReLU()\n",
      "    (4): Linear(in_features=512, out_features=10, bias=True)\n",
      "  )\n",
      ")\n"
     ]
    }
   ],
   "source": [
    "device = \"cuda\" if torch.cuda.is_available() else \"mps\" if torch.backends.mps.is_available() else \"cpu\"\n",
    "print(f\"Using {device} device\")\n",
    "\n",
    "model = NeuralNetwork().to(device)\n",
    "print(model)"
   ]
  },
  {
   "cell_type": "code",
   "execution_count": 14,
   "metadata": {},
   "outputs": [],
   "source": [
    "loss_fn = nn.CrossEntropyLoss()\n",
    "optimizer = torch.optim.SGD(model.parameters(), lr=Optimizer.LEARNING_RATE)"
   ]
  },
  {
   "cell_type": "code",
   "execution_count": 15,
   "metadata": {},
   "outputs": [],
   "source": [
    "def train(dataloader: DataLoader, model, loss_fn: nn.CrossEntropyLoss, optimizer: torch.optim.SGD):\n",
    "    size = len(dataloader.dataset)\n",
    "    model.train()\n",
    "\n",
    "    for batch, (X, y) in enumerate(dataloader):\n",
    "        X, y = X.to(device), y.to(device)\n",
    "\n",
    "        pred = model(X)\n",
    "        loss = loss_fn(pred, y)\n",
    "\n",
    "        # Backpropagation\n",
    "        optimizer.zero_grad()\n",
    "        loss.backward()\n",
    "        optimizer.step()\n",
    "\n",
    "        if batch % 100 == 0:\n",
    "            loss, current = loss.item(), (batch + 1) * len(X)\n",
    "            print(f\"loss: {loss:>7f}   [{current:>5d}/{size:>5d}]\")\n"
   ]
  },
  {
   "cell_type": "code",
   "execution_count": 16,
   "metadata": {},
   "outputs": [],
   "source": [
    "def test(dataloader: DataLoader, model, loss_fn:nn.CrossEntropyLoss):\n",
    "    size = len(dataloader.dataset)\n",
    "    num_batches = len(dataloader)\n",
    "    model.eval()\n",
    "    test_loss, correct = 0, 0\n",
    "    with torch.no_grad():\n",
    "        for X, y in dataloader:\n",
    "            X, y = X.to(device), y.to(device)\n",
    "            pred = model(X)\n",
    "            test_loss += loss_fn(pred, y).item()\n",
    "            correct += (pred.argmax(1) == y).type(torch.float).sum().item()\n",
    "    \n",
    "    test_loss /= num_batches\n",
    "    correct /= size\n",
    "    print(f\"Test Error: \\n Accuracy: {100*correct:>0.1f}%, Avg. loss: {test_loss:>8f} \")\n",
    "    "
   ]
  },
  {
   "cell_type": "code",
   "execution_count": 17,
   "metadata": {},
   "outputs": [
    {
     "name": "stdout",
     "output_type": "stream",
     "text": [
      "Epoch 1\n",
      "------------------------------------\n",
      "loss: 2.310673   [   64/60000]\n",
      "loss: 2.290894   [ 6464/60000]\n",
      "loss: 2.270659   [12864/60000]\n",
      "loss: 2.263996   [19264/60000]\n",
      "loss: 2.249777   [25664/60000]\n",
      "loss: 2.221135   [32064/60000]\n",
      "loss: 2.229175   [38464/60000]\n",
      "loss: 2.193488   [44864/60000]\n",
      "loss: 2.191582   [51264/60000]\n",
      "loss: 2.160387   [57664/60000]\n",
      "Test Error: \n",
      " Accuracy: 41.8%, Avg. loss: 2.155057 \n",
      "Epoch 2\n",
      "------------------------------------\n",
      "loss: 2.167244   [   64/60000]\n",
      "loss: 2.153565   [ 6464/60000]\n",
      "loss: 2.098600   [12864/60000]\n",
      "loss: 2.113091   [19264/60000]\n",
      "loss: 2.058724   [25664/60000]\n",
      "loss: 2.001342   [32064/60000]\n",
      "loss: 2.028290   [38464/60000]\n",
      "loss: 1.950722   [44864/60000]\n",
      "loss: 1.952599   [51264/60000]\n",
      "loss: 1.884051   [57664/60000]\n",
      "Test Error: \n",
      " Accuracy: 56.6%, Avg. loss: 1.885481 \n",
      "Epoch 3\n",
      "------------------------------------\n",
      "loss: 1.914731   [   64/60000]\n",
      "loss: 1.885630   [ 6464/60000]\n",
      "loss: 1.778922   [12864/60000]\n",
      "loss: 1.817254   [19264/60000]\n",
      "loss: 1.699481   [25664/60000]\n",
      "loss: 1.660692   [32064/60000]\n",
      "loss: 1.681540   [38464/60000]\n",
      "loss: 1.591249   [44864/60000]\n",
      "loss: 1.609704   [51264/60000]\n",
      "loss: 1.510162   [57664/60000]\n",
      "Test Error: \n",
      " Accuracy: 62.4%, Avg. loss: 1.532687 \n",
      "Epoch 4\n",
      "------------------------------------\n",
      "loss: 1.593818   [   64/60000]\n",
      "loss: 1.565506   [ 6464/60000]\n",
      "loss: 1.428388   [12864/60000]\n",
      "loss: 1.487810   [19264/60000]\n",
      "loss: 1.369468   [25664/60000]\n",
      "loss: 1.370193   [32064/60000]\n",
      "loss: 1.378644   [38464/60000]\n",
      "loss: 1.314165   [44864/60000]\n",
      "loss: 1.339095   [51264/60000]\n",
      "loss: 1.239335   [57664/60000]\n",
      "Test Error: \n",
      " Accuracy: 64.0%, Avg. loss: 1.270705 \n",
      "Epoch 5\n",
      "------------------------------------\n",
      "loss: 1.344000   [   64/60000]\n",
      "loss: 1.334003   [ 6464/60000]\n",
      "loss: 1.176557   [12864/60000]\n",
      "loss: 1.265617   [19264/60000]\n",
      "loss: 1.145019   [25664/60000]\n",
      "loss: 1.169688   [32064/60000]\n",
      "loss: 1.184944   [38464/60000]\n",
      "loss: 1.132810   [44864/60000]\n",
      "loss: 1.163949   [51264/60000]\n",
      "loss: 1.073370   [57664/60000]\n",
      "Test Error: \n",
      " Accuracy: 65.1%, Avg. loss: 1.101826 \n",
      "Done!\n"
     ]
    }
   ],
   "source": [
    "epochs = 5\n",
    "for t in range(epochs):\n",
    "    print(f\"Epoch {t+1}\\n------------------------------------\")\n",
    "    train(train_dataloader, model, loss_fn, optimizer)\n",
    "    test(test_dataloader, model, loss_fn)\n",
    "print(\"Done!\")"
   ]
  },
  {
   "cell_type": "code",
   "execution_count": null,
   "metadata": {},
   "outputs": [],
   "source": []
  }
 ],
 "metadata": {
  "kernelspec": {
   "display_name": "Python 3.10.10 ('mobcom')",
   "language": "python",
   "name": "python3"
  },
  "language_info": {
   "codemirror_mode": {
    "name": "ipython",
    "version": 3
   },
   "file_extension": ".py",
   "mimetype": "text/x-python",
   "name": "python",
   "nbconvert_exporter": "python",
   "pygments_lexer": "ipython3",
   "version": "3.10.10"
  },
  "orig_nbformat": 4,
  "vscode": {
   "interpreter": {
    "hash": "2c2dd8ec280869daf8a0c412e02647b71287154bac298f85c9d9cde2ff0311f8"
   }
  }
 },
 "nbformat": 4,
 "nbformat_minor": 2
}
