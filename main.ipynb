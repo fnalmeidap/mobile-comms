{
 "cells": [
  {
   "cell_type": "code",
   "execution_count": 2,
   "metadata": {},
   "outputs": [],
   "source": [
    "import torch\n",
    "from torch import nn\n",
    "from torch.utils.data import DataLoader\n",
    "from torchvision import datasets\n",
    "from torchvision.transforms import ToTensor\n",
    "\n",
    "from utils import download_data\n",
    "from models.neural_network import NeuralNetwork\n",
    "from environment import Optimizer"
   ]
  },
  {
   "cell_type": "code",
   "execution_count": 3,
   "metadata": {},
   "outputs": [],
   "source": [
    "train_data, test_data = download_data()"
   ]
  },
  {
   "cell_type": "code",
   "execution_count": 4,
   "metadata": {},
   "outputs": [
    {
     "name": "stdout",
     "output_type": "stream",
     "text": [
      "Shape of X [N, C, H, W]: torch.Size([64, 1, 28, 28])\n",
      "Shape of y: torch.Size([64]) torch.int64\n"
     ]
    }
   ],
   "source": [
    "batch_size = 64\n",
    "\n",
    "train_dataloader = DataLoader(train_data, batch_size=batch_size)\n",
    "test_dataloader = DataLoader(test_data, batch_size=batch_size)\n",
    "\n",
    "for X, y in test_dataloader:\n",
    "    print(f\"Shape of X [N, C, H, W]: {X.shape}\")\n",
    "    print(f\"Shape of y: {y.shape} {y.dtype}\")\n",
    "    break"
   ]
  },
  {
   "cell_type": "code",
   "execution_count": 5,
   "metadata": {},
   "outputs": [
    {
     "name": "stdout",
     "output_type": "stream",
     "text": [
      "Using cpu device\n",
      "NeuralNetwork(\n",
      "  (flatten): Flatten(start_dim=1, end_dim=-1)\n",
      "  (linear_relu_stack): Sequential(\n",
      "    (0): Linear(in_features=784, out_features=512, bias=True)\n",
      "    (1): ReLU()\n",
      "    (2): Linear(in_features=512, out_features=512, bias=True)\n",
      "    (3): ReLU()\n",
      "    (4): Linear(in_features=512, out_features=10, bias=True)\n",
      "  )\n",
      ")\n"
     ]
    }
   ],
   "source": [
    "device = \"cuda\" if torch.cuda.is_available() else \"mps\" if torch.backends.mps.is_available() else \"cpu\"\n",
    "print(f\"Using {device} device\")\n",
    "\n",
    "model = NeuralNetwork().to(device)\n",
    "print(model)"
   ]
  },
  {
   "cell_type": "code",
   "execution_count": 6,
   "metadata": {},
   "outputs": [],
   "source": [
    "loss_fn = nn.CrossEntropyLoss()\n",
    "optimizer = torch.optim.SGD(model.parameters(), lr=Optimizer.LEARNING_RATE)"
   ]
  },
  {
   "cell_type": "code",
   "execution_count": 7,
   "metadata": {},
   "outputs": [],
   "source": [
    "def train(dataloader: DataLoader, model, loss_fn: nn.CrossEntropyLoss, optimizer: torch.optim.SGD):\n",
    "    size = len(dataloader.dataset)\n",
    "    model.train()\n",
    "\n",
    "    for batch, (X, y) in enumerate(dataloader):\n",
    "        X, y = X.to(device), y.to(device)\n",
    "\n",
    "        pred = model(X)\n",
    "        loss = loss_fn(pred, y)\n",
    "\n",
    "        # Backpropagation\n",
    "        optimizer.zero_grad()\n",
    "        loss.backward()\n",
    "        optimizer.step()\n",
    "\n",
    "        if batch % 100 == 0:\n",
    "            loss, current = loss.item(), (batch + 1) * len(X)\n",
    "            print(f\"loss: {loss:>7f}   [{current:>5d}/{size:>5d}]\")\n"
   ]
  },
  {
   "cell_type": "code",
   "execution_count": 8,
   "metadata": {},
   "outputs": [],
   "source": [
    "def test(dataloader: DataLoader, model, loss_fn:nn.CrossEntropyLoss):\n",
    "    size = len(dataloader.dataset)\n",
    "    num_batches = len(dataloader)\n",
    "    model.eval()\n",
    "    test_loss, correct = 0, 0\n",
    "    with torch.no_grad():\n",
    "        for X, y in dataloader:\n",
    "            X, y = X.to(device), y.to(device)\n",
    "            pred = model(X)\n",
    "            test_loss += loss_fn(pred, y).item()\n",
    "            correct += (pred.argmax(1) == y).type(torch.float).sum().item()\n",
    "    \n",
    "    test_loss /= num_batches\n",
    "    correct /= size\n",
    "    print(f\"Test Error: \\n Accuracy: {100*correct:>0.1f}%, Avg. loss: {test_loss:>8f} \")\n",
    "    "
   ]
  },
  {
   "cell_type": "code",
   "execution_count": 9,
   "metadata": {},
   "outputs": [
    {
     "name": "stdout",
     "output_type": "stream",
     "text": [
      "Epoch 1\n",
      "------------------------------------\n",
      "loss: 2.297650   [   64/60000]\n",
      "loss: 2.287532   [ 6464/60000]\n",
      "loss: 2.271693   [12864/60000]\n",
      "loss: 2.269808   [19264/60000]\n",
      "loss: 2.233562   [25664/60000]\n",
      "loss: 2.214126   [32064/60000]\n",
      "loss: 2.223717   [38464/60000]\n",
      "loss: 2.178769   [44864/60000]\n",
      "loss: 2.189962   [51264/60000]\n",
      "loss: 2.161560   [57664/60000]\n",
      "Test Error: \n",
      " Accuracy: 44.0%, Avg. loss: 2.147968 \n",
      "Epoch 2\n",
      "------------------------------------\n",
      "loss: 2.151260   [   64/60000]\n",
      "loss: 2.146316   [ 6464/60000]\n",
      "loss: 2.085807   [12864/60000]\n",
      "loss: 2.112518   [19264/60000]\n",
      "loss: 2.038376   [25664/60000]\n",
      "loss: 1.981464   [32064/60000]\n",
      "loss: 2.023072   [38464/60000]\n",
      "loss: 1.923222   [44864/60000]\n",
      "loss: 1.952881   [51264/60000]\n",
      "loss: 1.874007   [57664/60000]\n",
      "Test Error: \n",
      " Accuracy: 54.3%, Avg. loss: 1.864073 \n",
      "Epoch 3\n",
      "------------------------------------\n",
      "loss: 1.896618   [   64/60000]\n",
      "loss: 1.864967   [ 6464/60000]\n",
      "loss: 1.746310   [12864/60000]\n",
      "loss: 1.802813   [19264/60000]\n",
      "loss: 1.664961   [25664/60000]\n",
      "loss: 1.628473   [32064/60000]\n",
      "loss: 1.667765   [38464/60000]\n",
      "loss: 1.551456   [44864/60000]\n",
      "loss: 1.596410   [51264/60000]\n",
      "loss: 1.492075   [57664/60000]\n",
      "Test Error: \n",
      " Accuracy: 61.7%, Avg. loss: 1.499298 \n",
      "Epoch 4\n",
      "------------------------------------\n",
      "loss: 1.568209   [   64/60000]\n",
      "loss: 1.531758   [ 6464/60000]\n",
      "loss: 1.386756   [12864/60000]\n",
      "loss: 1.465764   [19264/60000]\n",
      "loss: 1.328419   [25664/60000]\n",
      "loss: 1.336958   [32064/60000]\n",
      "loss: 1.358952   [38464/60000]\n",
      "loss: 1.269585   [44864/60000]\n",
      "loss: 1.317570   [51264/60000]\n",
      "loss: 1.223938   [57664/60000]\n",
      "Test Error: \n",
      " Accuracy: 63.4%, Avg. loss: 1.239263 \n",
      "Epoch 5\n",
      "------------------------------------\n",
      "loss: 1.317045   [   64/60000]\n",
      "loss: 1.300023   [ 6464/60000]\n",
      "loss: 1.139331   [12864/60000]\n",
      "loss: 1.250080   [19264/60000]\n",
      "loss: 1.115896   [25664/60000]\n",
      "loss: 1.144032   [32064/60000]\n",
      "loss: 1.171335   [38464/60000]\n",
      "loss: 1.092936   [44864/60000]\n",
      "loss: 1.148264   [51264/60000]\n",
      "loss: 1.069730   [57664/60000]\n",
      "Test Error: \n",
      " Accuracy: 64.6%, Avg. loss: 1.081320 \n",
      "Done!\n"
     ]
    }
   ],
   "source": [
    "epochs = 5\n",
    "for t in range(epochs):\n",
    "    print(f\"Epoch {t+1}\\n------------------------------------\")\n",
    "    train(train_dataloader, model, loss_fn, optimizer)\n",
    "    test(test_dataloader, model, loss_fn)\n",
    "print(\"Done!\")"
   ]
  },
  {
   "cell_type": "code",
   "execution_count": null,
   "metadata": {},
   "outputs": [],
   "source": []
  }
 ],
 "metadata": {
  "kernelspec": {
   "display_name": "Python 3.10.10 ('mobcom')",
   "language": "python",
   "name": "python3"
  },
  "language_info": {
   "codemirror_mode": {
    "name": "ipython",
    "version": 3
   },
   "file_extension": ".py",
   "mimetype": "text/x-python",
   "name": "python",
   "nbconvert_exporter": "python",
   "pygments_lexer": "ipython3",
   "version": "3.10.10"
  },
  "orig_nbformat": 4,
  "vscode": {
   "interpreter": {
    "hash": "2c2dd8ec280869daf8a0c412e02647b71287154bac298f85c9d9cde2ff0311f8"
   }
  }
 },
 "nbformat": 4,
 "nbformat_minor": 2
}
